{
  "nbformat": 4,
  "nbformat_minor": 0,
  "metadata": {
    "colab": {
      "provenance": [],
      "authorship_tag": "ABX9TyNspI7utMO7L4K27nhVn3QJ",
      "include_colab_link": true
    },
    "kernelspec": {
      "name": "python3",
      "display_name": "Python 3"
    },
    "language_info": {
      "name": "python"
    }
  },
  "cells": [
    {
      "cell_type": "markdown",
      "metadata": {
        "id": "view-in-github",
        "colab_type": "text"
      },
      "source": [
        "<a href=\"https://colab.research.google.com/github/RifatMuhtasim/NLP_Natural_Language_Processing/blob/main/Learn/11.Part_Of_Speech_Tagging.ipynb\" target=\"_parent\"><img src=\"https://colab.research.google.com/assets/colab-badge.svg\" alt=\"Open In Colab\"/></a>"
      ]
    },
    {
      "cell_type": "code",
      "execution_count": 1,
      "metadata": {
        "id": "eYt9lOTc9BkJ"
      },
      "outputs": [],
      "source": [
        "import spacy"
      ]
    },
    {
      "cell_type": "code",
      "source": [
        "#load the pretrained model\n",
        "nlp = spacy.load(\"en_core_web_sm\")\n",
        "\n",
        "text = \"Tavlav is awesome marketing company in the world.\"\n",
        "doc = nlp(text)"
      ],
      "metadata": {
        "id": "1i_Qhk2o9Lsn"
      },
      "execution_count": 2,
      "outputs": []
    },
    {
      "cell_type": "code",
      "source": [
        "#Display Part of speech for each of the token\n",
        "for token in doc:\n",
        "    print(token, \" -- \", token.pos_, \" -- \", spacy.explain(token.pos_))"
      ],
      "metadata": {
        "colab": {
          "base_uri": "https://localhost:8080/"
        },
        "id": "-JCONwNQ_55L",
        "outputId": "b2277eb6-d684-4f95-ba60-e5ac415ac281"
      },
      "execution_count": 3,
      "outputs": [
        {
          "output_type": "stream",
          "name": "stdout",
          "text": [
            "Tavlav  --  NOUN  --  noun\n",
            "is  --  AUX  --  auxiliary\n",
            "awesome  --  ADJ  --  adjective\n",
            "marketing  --  NOUN  --  noun\n",
            "company  --  NOUN  --  noun\n",
            "in  --  ADP  --  adposition\n",
            "the  --  DET  --  determiner\n",
            "world  --  NOUN  --  noun\n",
            ".  --  PUNCT  --  punctuation\n"
          ]
        }
      ]
    },
    {
      "cell_type": "code",
      "source": [
        "#Display part of speech and verb for each of the token\n",
        "for token in doc:\n",
        "    print(token, \" -- \", token.pos_, \" -- \", spacy.explain(token.pos_), \" -- \",  token.tag_, \" -- \", spacy.explain(token.tag_))"
      ],
      "metadata": {
        "colab": {
          "base_uri": "https://localhost:8080/"
        },
        "id": "Uor0uDZjAKue",
        "outputId": "2b1251b6-f76e-40d2-c7d4-016ca81f9e41"
      },
      "execution_count": 4,
      "outputs": [
        {
          "output_type": "stream",
          "name": "stdout",
          "text": [
            "Tavlav  --  NOUN  --  noun  --  NN  --  noun, singular or mass\n",
            "is  --  AUX  --  auxiliary  --  VBZ  --  verb, 3rd person singular present\n",
            "awesome  --  ADJ  --  adjective  --  JJ  --  adjective (English), other noun-modifier (Chinese)\n",
            "marketing  --  NOUN  --  noun  --  NN  --  noun, singular or mass\n",
            "company  --  NOUN  --  noun  --  NN  --  noun, singular or mass\n",
            "in  --  ADP  --  adposition  --  IN  --  conjunction, subordinating or preposition\n",
            "the  --  DET  --  determiner  --  DT  --  determiner\n",
            "world  --  NOUN  --  noun  --  NN  --  noun, singular or mass\n",
            ".  --  PUNCT  --  punctuation  --  .  --  punctuation mark, sentence closer\n"
          ]
        }
      ]
    },
    {
      "cell_type": "code",
      "source": [
        "sample_text = \"\"\"Artificial Intelligence Engineering is a branch of engineering focused on designing, developing, and managing systems that integrate artificial intelligence (AI) technologies. This discipline encompasses the methods, tools, and frameworks necessary to implement AI solutions effectively within various industries.\n",
        "AI engineers work on creating algorithms, building advanced data processing techniques, and improving the robustness and performance of AI systems, ensuring they can solve complex problems, automate processes, and optimize operations efficiently. Their role is critical in bridging the gap between theoretical AI developments and practical, real-world applications, ensuring AI systems are scalable, sustainable, and ethically aligned with societal norms and business needs.\"\"\"\n",
        "\n",
        "doc = nlp(sample_text)"
      ],
      "metadata": {
        "id": "2GiDs0FgB4E0"
      },
      "execution_count": 5,
      "outputs": []
    },
    {
      "cell_type": "code",
      "source": [
        "#Remove Unnecessary Parts of Speech\n",
        "\n",
        "filtered_text = []\n",
        "for token in doc:\n",
        "    if token.pos_ not in [\"SPACE\", \"X\", \"PUNCT\"]:\n",
        "        filtered_text.append(token)\n",
        "\n",
        "filtered_text[:20]"
      ],
      "metadata": {
        "colab": {
          "base_uri": "https://localhost:8080/"
        },
        "id": "C_vVkdhuDOYW",
        "outputId": "f8def9ff-76a3-4d82-8d01-6116cb5d9191"
      },
      "execution_count": 6,
      "outputs": [
        {
          "output_type": "execute_result",
          "data": {
            "text/plain": [
              "[Artificial,\n",
              " Intelligence,\n",
              " Engineering,\n",
              " is,\n",
              " a,\n",
              " branch,\n",
              " of,\n",
              " engineering,\n",
              " focused,\n",
              " on,\n",
              " designing,\n",
              " developing,\n",
              " and,\n",
              " managing,\n",
              " systems,\n",
              " that,\n",
              " integrate,\n",
              " artificial,\n",
              " intelligence,\n",
              " AI]"
            ]
          },
          "metadata": {},
          "execution_count": 6
        }
      ]
    },
    {
      "cell_type": "code",
      "source": [
        "#count the numbers of word from a text\n",
        "count = doc.count_by(spacy.attrs.POS)\n",
        "\n",
        "#Return each of the part of speech with their count value\n",
        "for k, v in count.items():\n",
        "    print(doc.vocab[k].text, \" -- \", v)"
      ],
      "metadata": {
        "colab": {
          "base_uri": "https://localhost:8080/"
        },
        "id": "C1iPRku9Dp0u",
        "outputId": "18645785-19ed-4b92-dd95-3e7ffbd38d2e"
      },
      "execution_count": 7,
      "outputs": [
        {
          "output_type": "stream",
          "name": "stdout",
          "text": [
            "PROPN  --  9\n",
            "AUX  --  4\n",
            "DET  --  5\n",
            "NOUN  --  32\n",
            "ADP  --  8\n",
            "VERB  --  16\n",
            "PUNCT  --  20\n",
            "CCONJ  --  8\n",
            "PRON  --  3\n",
            "ADJ  --  13\n",
            "PART  --  1\n",
            "ADV  --  3\n",
            "SPACE  --  1\n"
          ]
        }
      ]
    },
    {
      "cell_type": "code",
      "source": [
        "news_text = \"\"\"Inflation rose again in April, continuing a climb that has pushed consumers to the brink and is threatening the economic expansion, the Bureau of Labor Statistics reported Wednesday.\n",
        "                        The consumer price index, a broad-based measure of prices for goods and services, increased 8.3% from a year ago, higher than the Dow Jones estimate for an 8.1% gain. That represented a slight ease from March’s peak but was still close to the highest level since the summer of 1982.\n",
        "                        Removing volatile food and energy prices, so-called core CPI still rose 6.2%, against expectations for a 6% gain, clouding hopes that inflation had peaked in March.\n",
        "                        The month-over-month gains also were higher than expectations — 0.3% on headline CPI versus the 0.2% estimate and a 0.6% increase for core, against the outlook for a 0.4% gain.\n",
        "                        The price gains also meant that workers continued to lose ground. Real wages adjusted for inflation decreased 0.1% on the month despite a nominal increase of 0.3% in average hourly earnings. Over the past year, real earnings have dropped 2.6% even though average hourly earnings are up 5.5%.\n",
        "                        Inflation has been the single biggest threat to a recovery that began early in the Covid pandemic and saw the economy in 2021 stage its biggest single-year growth level since 1984. Rising prices at the pump and in grocery stores have been one problem, but inflation has spread beyond those two areas into housing, auto sales and a host of other areas.\n",
        "                        Federal Reserve officials have responded to the problem with two interest rate hikes so far this year and pledges of more until inflation comes down to the central bank’s 2% goal. However, Wednesday’s data shows that the Fed has a big job ahead.\n",
        "                        Credits: cnbc.com\"\"\"\n",
        "\n",
        "doc = nlp(news_text)"
      ],
      "metadata": {
        "id": "RJirzRbfE_vn"
      },
      "execution_count": 8,
      "outputs": []
    },
    {
      "cell_type": "code",
      "source": [
        "#Extract all noun from the news text\n",
        "\n",
        "for token in doc:\n",
        "    if token.pos_ == \"NOUN\":\n",
        "        print(token)"
      ],
      "metadata": {
        "colab": {
          "base_uri": "https://localhost:8080/"
        },
        "id": "8vV9B2aIHut2",
        "outputId": "971f321a-e4f7-49fe-921e-252d02f9bfe6"
      },
      "execution_count": 9,
      "outputs": [
        {
          "output_type": "stream",
          "name": "stdout",
          "text": [
            "Inflation\n",
            "climb\n",
            "consumers\n",
            "brink\n",
            "expansion\n",
            "consumer\n",
            "price\n",
            "index\n",
            "measure\n",
            "prices\n",
            "goods\n",
            "services\n",
            "%\n",
            "year\n",
            "estimate\n",
            "%\n",
            "gain\n",
            "ease\n",
            "peak\n",
            "level\n",
            "summer\n",
            "food\n",
            "energy\n",
            "prices\n",
            "core\n",
            "%\n",
            "expectations\n",
            "%\n",
            "gain\n",
            "hopes\n",
            "inflation\n",
            "month\n",
            "month\n",
            "gains\n",
            "expectations\n",
            "%\n",
            "headline\n",
            "%\n",
            "estimate\n",
            "%\n",
            "increase\n",
            "core\n",
            "outlook\n",
            "%\n",
            "gain\n",
            "price\n",
            "gains\n",
            "workers\n",
            "ground\n",
            "wages\n",
            "inflation\n",
            "%\n",
            "month\n",
            "increase\n",
            "%\n",
            "earnings\n",
            "year\n",
            "earnings\n",
            "%\n",
            "earnings\n",
            "%\n",
            "Inflation\n",
            "threat\n",
            "recovery\n",
            "pandemic\n",
            "economy\n",
            "stage\n",
            "year\n",
            "growth\n",
            "level\n",
            "prices\n",
            "pump\n",
            "grocery\n",
            "stores\n",
            "problem\n",
            "inflation\n",
            "areas\n",
            "housing\n",
            "auto\n",
            "sales\n",
            "host\n",
            "areas\n",
            "officials\n",
            "problem\n",
            "interest\n",
            "rate\n",
            "hikes\n",
            "year\n",
            "pledges\n",
            "inflation\n",
            "bank\n",
            "%\n",
            "goal\n",
            "data\n",
            "job\n",
            "Credits\n"
          ]
        }
      ]
    },
    {
      "cell_type": "code",
      "source": [
        "#Extract all numbers (NUM POS type) in a python list\n",
        "for token in doc:\n",
        "    if token.pos_ in ['NUM', \"POS\"]:\n",
        "        print(token)"
      ],
      "metadata": {
        "colab": {
          "base_uri": "https://localhost:8080/"
        },
        "id": "aOJGa9GrIKQC",
        "outputId": "c848c829-9ac8-4486-c972-1b9b7d89578a"
      },
      "execution_count": 10,
      "outputs": [
        {
          "output_type": "stream",
          "name": "stdout",
          "text": [
            "8.3\n",
            "8.1\n",
            "1982\n",
            "6.2\n",
            "6\n",
            "0.3\n",
            "0.2\n",
            "0.6\n",
            "0.4\n",
            "0.1\n",
            "0.3\n",
            "2.6\n",
            "5.5\n",
            "2021\n",
            "1984\n",
            "one\n",
            "two\n",
            "two\n",
            "2\n"
          ]
        }
      ]
    }
  ]
}