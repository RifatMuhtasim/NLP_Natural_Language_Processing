{
  "nbformat": 4,
  "nbformat_minor": 0,
  "metadata": {
    "colab": {
      "provenance": [],
      "include_colab_link": true
    },
    "kernelspec": {
      "name": "python3",
      "display_name": "Python 3"
    },
    "language_info": {
      "name": "python"
    }
  },
  "cells": [
    {
      "cell_type": "markdown",
      "metadata": {
        "id": "view-in-github",
        "colab_type": "text"
      },
      "source": [
        "<a href=\"https://colab.research.google.com/github/RifatMuhtasim/NLP_Natural_Language_Processing/blob/main/Learn/08.Tokenization_in_Spacy.ipynb\" target=\"_parent\"><img src=\"https://colab.research.google.com/assets/colab-badge.svg\" alt=\"Open In Colab\"/></a>"
      ]
    },
    {
      "cell_type": "markdown",
      "source": [
        "# Spacy Tokenizer"
      ],
      "metadata": {
        "id": "fB2AsyYTRaRp"
      }
    },
    {
      "cell_type": "code",
      "execution_count": null,
      "metadata": {
        "id": "wE0CDXQ6IjbV"
      },
      "outputs": [],
      "source": [
        "import spacy"
      ]
    },
    {
      "cell_type": "code",
      "source": [
        "# NLP Tokenization\n",
        "\n",
        "nlp = spacy.blank(\"en\")\n",
        "\n",
        "text = \"Let's go the N.Y.!\"\n",
        "doc = nlp(text)\n",
        "for token in doc:\n",
        "    print(token)"
      ],
      "metadata": {
        "colab": {
          "base_uri": "https://localhost:8080/"
        },
        "id": "1wxWQsCqJYHD",
        "outputId": "d7b13f96-c145-4b36-a72e-0a37ca0ecf97"
      },
      "execution_count": null,
      "outputs": [
        {
          "output_type": "stream",
          "name": "stdout",
          "text": [
            "Let\n",
            "'s\n",
            "go\n",
            "the\n",
            "N.Y.\n",
            "!\n"
          ]
        }
      ]
    },
    {
      "cell_type": "code",
      "source": [
        "# Retrieve the 3rd Index Value\n",
        "doc[2]"
      ],
      "metadata": {
        "colab": {
          "base_uri": "https://localhost:8080/"
        },
        "id": "i-ehfqsjJ0bk",
        "outputId": "5c09cb2c-a7d5-43f0-88ed-4674c737568e"
      },
      "execution_count": null,
      "outputs": [
        {
          "output_type": "execute_result",
          "data": {
            "text/plain": [
              "go"
            ]
          },
          "metadata": {},
          "execution_count": 3
        }
      ]
    },
    {
      "cell_type": "code",
      "source": [
        "# Retrieve the list of token\n",
        "doc[2:5]"
      ],
      "metadata": {
        "colab": {
          "base_uri": "https://localhost:8080/"
        },
        "id": "7k9r1IepJ6J-",
        "outputId": "65ddcfe5-cbd1-40e9-c573-4fcff2624fb6"
      },
      "execution_count": null,
      "outputs": [
        {
          "output_type": "execute_result",
          "data": {
            "text/plain": [
              "go the N.Y."
            ]
          },
          "metadata": {},
          "execution_count": 4
        }
      ]
    },
    {
      "cell_type": "code",
      "source": [
        "# Show the doc type\n",
        "type(doc)"
      ],
      "metadata": {
        "colab": {
          "base_uri": "https://localhost:8080/"
        },
        "id": "6EVLtp8KJ8vj",
        "outputId": "b9b8d50a-f318-4b5b-c5e7-d44e9757ea0a"
      },
      "execution_count": null,
      "outputs": [
        {
          "output_type": "execute_result",
          "data": {
            "text/plain": [
              "spacy.tokens.doc.Doc"
            ]
          },
          "metadata": {},
          "execution_count": 5
        }
      ]
    },
    {
      "cell_type": "code",
      "source": [
        "type(nlp)"
      ],
      "metadata": {
        "colab": {
          "base_uri": "https://localhost:8080/",
          "height": 204
        },
        "collapsed": true,
        "id": "ldmMzKSzKEV6",
        "outputId": "8b53c4f4-8544-4e0a-853b-53e96e829030"
      },
      "execution_count": null,
      "outputs": [
        {
          "output_type": "execute_result",
          "data": {
            "text/plain": [
              "spacy.lang.en.English"
            ],
            "text/html": [
              "<div style=\"max-width:800px; border: 1px solid var(--colab-border-color);\"><style>\n",
              "      pre.function-repr-contents {\n",
              "        overflow-x: auto;\n",
              "        padding: 8px 12px;\n",
              "        max-height: 500px;\n",
              "      }\n",
              "\n",
              "      pre.function-repr-contents.function-repr-contents-collapsed {\n",
              "        cursor: pointer;\n",
              "        max-height: 100px;\n",
              "      }\n",
              "    </style>\n",
              "    <pre style=\"white-space: initial; background:\n",
              "         var(--colab-secondary-surface-color); padding: 8px 12px;\n",
              "         border-bottom: 1px solid var(--colab-border-color);\"><b>spacy.lang.en.English</b><br/>def __call__(text: Union[str, Doc], *, disable: Iterable[str]=SimpleFrozenList(), component_cfg: Optional[Dict[str, Dict[str, Any]]]=None) -&gt; Doc</pre><pre class=\"function-repr-contents function-repr-contents-collapsed\" style=\"\"><a class=\"filepath\" style=\"display:none\" href=\"#\">/usr/local/lib/python3.10/dist-packages/spacy/lang/en/__init__.py</a>A text-processing pipeline. Usually you&#x27;ll load this once per process,\n",
              "and pass the instance around your application.\n",
              "\n",
              "Defaults (class): Settings, data and factory methods for creating the `nlp`\n",
              "    object and processing pipeline.\n",
              "lang (str): IETF language code, such as &#x27;en&#x27;.\n",
              "\n",
              "DOCS: https://spacy.io/api/language</pre>\n",
              "      <script>\n",
              "      if (google.colab.kernel.accessAllowed && google.colab.files && google.colab.files.view) {\n",
              "        for (const element of document.querySelectorAll('.filepath')) {\n",
              "          element.style.display = 'block'\n",
              "          element.onclick = (event) => {\n",
              "            event.preventDefault();\n",
              "            event.stopPropagation();\n",
              "            google.colab.files.view(element.textContent, 22);\n",
              "          };\n",
              "        }\n",
              "      }\n",
              "      for (const element of document.querySelectorAll('.function-repr-contents')) {\n",
              "        element.onclick = (event) => {\n",
              "          event.preventDefault();\n",
              "          event.stopPropagation();\n",
              "          element.classList.toggle('function-repr-contents-collapsed');\n",
              "        };\n",
              "      }\n",
              "      </script>\n",
              "      </div>"
            ]
          },
          "metadata": {},
          "execution_count": 6
        }
      ]
    },
    {
      "cell_type": "markdown",
      "source": [
        "## Check the token type"
      ],
      "metadata": {
        "id": "8ZcuwelXKooQ"
      }
    },
    {
      "cell_type": "code",
      "source": [
        "text = \"Tony gave two $ to Peter.\"\n",
        "doc = nlp(text)\n",
        "\n",
        "for token in doc:\n",
        "    print(token, \"==>\", token.i,\n",
        "          \"is_alpha:\", token.is_alpha,\n",
        "          \"is_punct:\", token.is_punct,\n",
        "          \"like_num:\", token.like_num,\n",
        "          \"is_currency:\", token.is_currency)"
      ],
      "metadata": {
        "colab": {
          "base_uri": "https://localhost:8080/"
        },
        "id": "pot3BZdEKdHT",
        "outputId": "137353bf-e368-4b1c-cd43-552122f59552"
      },
      "execution_count": null,
      "outputs": [
        {
          "output_type": "stream",
          "name": "stdout",
          "text": [
            "Tony ==> 0 is_alpha: True is_punct: False like_num: False is_currency: False\n",
            "gave ==> 1 is_alpha: True is_punct: False like_num: False is_currency: False\n",
            "two ==> 2 is_alpha: True is_punct: False like_num: True is_currency: False\n",
            "$ ==> 3 is_alpha: False is_punct: False like_num: False is_currency: True\n",
            "to ==> 4 is_alpha: True is_punct: False like_num: False is_currency: False\n",
            "Peter ==> 5 is_alpha: True is_punct: False like_num: False is_currency: False\n",
            ". ==> 6 is_alpha: False is_punct: True like_num: False is_currency: False\n"
          ]
        }
      ]
    },
    {
      "cell_type": "markdown",
      "source": [
        "## Grab all of the Emails"
      ],
      "metadata": {
        "id": "550g8tq-L36I"
      }
    },
    {
      "cell_type": "code",
      "source": [
        "with open(\"/content/drive/MyDrive/Colab Notebooks/NLP/Media/students.txt\") as f:\n",
        "    text = f.readlines()\n",
        "\n",
        "text = \" \".join(text)\n",
        "text"
      ],
      "metadata": {
        "colab": {
          "base_uri": "https://localhost:8080/",
          "height": 53
        },
        "id": "jA-KQlz6LoU5",
        "outputId": "55795779-dc98-4a78-8b14-e301d86fb133"
      },
      "execution_count": null,
      "outputs": [
        {
          "output_type": "execute_result",
          "data": {
            "text/plain": [
              "'Dayton high school, 8th grade students information\\n ==================================================\\n \\n Name\\tbirth day   \\temail\\n -----\\t------------\\t------\\n Virat   5 June, 1882    virat@kohli.com\\n Maria\\t12 April, 2001  maria@sharapova.com\\n Serena  24 June, 1998   serena@williams.com \\n Joe      1 May, 1997    joe@root.com\\n \\n \\n \\n'"
            ],
            "application/vnd.google.colaboratory.intrinsic+json": {
              "type": "string"
            }
          },
          "metadata": {},
          "execution_count": 8
        }
      ]
    },
    {
      "cell_type": "code",
      "source": [
        "doc = nlp(text)\n",
        "\n",
        "emails = []\n",
        "for token in doc:\n",
        "    if token.like_email:\n",
        "        emails.append(token)\n",
        "\n",
        "emails"
      ],
      "metadata": {
        "colab": {
          "base_uri": "https://localhost:8080/"
        },
        "id": "hn8odQT0MNUj",
        "outputId": "eaef3874-15ba-4b3a-a715-a7c1cb54de48"
      },
      "execution_count": null,
      "outputs": [
        {
          "output_type": "execute_result",
          "data": {
            "text/plain": [
              "[virat@kohli.com, maria@sharapova.com, serena@williams.com, joe@root.com]"
            ]
          },
          "metadata": {},
          "execution_count": 9
        }
      ]
    },
    {
      "cell_type": "markdown",
      "source": [
        "## Use Bengali Language in Spacy"
      ],
      "metadata": {
        "id": "CLNSNIaAOASS"
      }
    },
    {
      "cell_type": "code",
      "source": [
        "nlp = spacy.blank(\"bn\")\n",
        "\n",
        "bn_text = \"তোমার নাম কি? এই নাও ১০০০ টাকা। ফুলগুলো কিন্তু অনেক সুন্দর।\"\n",
        "doc = nlp(bn_text)\n",
        "\n",
        "# Print Bengali Token with there token type\n",
        "for token in doc:\n",
        "    print(f\"{token} is currency: {token.is_currency} & is number: {token.like_num}\")"
      ],
      "metadata": {
        "colab": {
          "base_uri": "https://localhost:8080/"
        },
        "id": "iII45Gr2N31a",
        "outputId": "f99c94ee-fd4c-4257-9462-08a7b371b1c4"
      },
      "execution_count": null,
      "outputs": [
        {
          "output_type": "stream",
          "name": "stdout",
          "text": [
            "তোমার is currency: False & is number: False\n",
            "নাম is currency: False & is number: False\n",
            "কি is currency: False & is number: False\n",
            "? is currency: False & is number: False\n",
            "এই is currency: False & is number: False\n",
            "নাও is currency: False & is number: False\n",
            "১০০০ is currency: False & is number: True\n",
            "টাকা is currency: False & is number: False\n",
            "। is currency: False & is number: False\n",
            "ফুলগুলো is currency: False & is number: False\n",
            "কিন্তু is currency: False & is number: False\n",
            "অনেক is currency: False & is number: False\n",
            "সুন্দর is currency: False & is number: False\n",
            "। is currency: False & is number: False\n"
          ]
        }
      ]
    },
    {
      "cell_type": "markdown",
      "source": [
        "Comment: Here We See that, Taka which is the currency of Bangladesh can't detect properly."
      ],
      "metadata": {
        "id": "axincZq5O9Kg"
      }
    },
    {
      "cell_type": "markdown",
      "source": [
        "## Customized Spacy Token"
      ],
      "metadata": {
        "id": "V05ngoI3PS0U"
      }
    },
    {
      "cell_type": "code",
      "source": [
        "from spacy.symbols import ORTH\n",
        "\n",
        "# Customizer \"gimme\" single word\n",
        "nlp = spacy.blank(\"en\")\n",
        "nlp.tokenizer.add_special_case(\"gimme\", [\n",
        "    {ORTH: \"gim\"},\n",
        "    {ORTH: \"me\"}\n",
        "])\n",
        "\n",
        "text = \"gimme double extra large healthy pizza.\"\n",
        "doc = nlp(text)\n",
        "for token in doc:\n",
        "    print(token)"
      ],
      "metadata": {
        "colab": {
          "base_uri": "https://localhost:8080/"
        },
        "id": "SWb6B07rOrG9",
        "outputId": "819338c5-d805-41db-b953-21b98b89345a"
      },
      "execution_count": null,
      "outputs": [
        {
          "output_type": "stream",
          "name": "stdout",
          "text": [
            "gim\n",
            "me\n",
            "double\n",
            "extra\n",
            "large\n",
            "healthy\n",
            "pizza\n",
            ".\n"
          ]
        }
      ]
    },
    {
      "cell_type": "markdown",
      "source": [
        "## Sentence Customizer"
      ],
      "metadata": {
        "id": "MZG9hLxmQt4R"
      }
    },
    {
      "cell_type": "code",
      "source": [
        "nlp.add_pipe(\"sentencizer\")\n",
        "text = \"Hello Sylhet! You are a wonderful city in the World.\"\n",
        "doc = nlp(text)\n",
        "\n",
        "tokens = [token.text for token in doc ]\n",
        "tokens"
      ],
      "metadata": {
        "colab": {
          "base_uri": "https://localhost:8080/"
        },
        "id": "OAHw1XIUQXfm",
        "outputId": "2f3d93b8-1f84-4d17-9b51-a474ee51823d"
      },
      "execution_count": null,
      "outputs": [
        {
          "output_type": "execute_result",
          "data": {
            "text/plain": [
              "['Hello',\n",
              " 'Sylhet',\n",
              " '!',\n",
              " 'You',\n",
              " 'are',\n",
              " 'a',\n",
              " 'wonderful',\n",
              " 'city',\n",
              " 'in',\n",
              " 'the',\n",
              " 'World',\n",
              " '.']"
            ]
          },
          "metadata": {},
          "execution_count": 12
        }
      ]
    },
    {
      "cell_type": "markdown",
      "source": [
        "# Exercise"
      ],
      "metadata": {
        "id": "3pOuNyebRU56"
      }
    },
    {
      "cell_type": "markdown",
      "source": [
        "## 1. Grab All the URLS for the text using Spacy"
      ],
      "metadata": {
        "id": "UNDL4ZiOR47X"
      }
    },
    {
      "cell_type": "code",
      "source": [
        "text='''\n",
        "Look for data to help you address the question. Governments are good\n",
        "sources because data from public research is often freely available. Good\n",
        "places to start include http://www.data.gov/, and http://www.science.\n",
        "gov/, and in the United Kingdom, http://data.gov.uk/.\n",
        "Two of my favorite data sets are the General Social Survey at http://www3.norc.org/gss+website/,\n",
        "and the European Social Survey at http://www.europeansocialsurvey.org/.\n",
        "'''\n",
        "\n",
        "nlp = spacy.blank(\"en\")\n",
        "doc = nlp(text)\n",
        "\n",
        "urls = []\n",
        "for token in doc:\n",
        "    if token.like_url:\n",
        "        urls.append(token.text)\n",
        "\n",
        "urls"
      ],
      "metadata": {
        "colab": {
          "base_uri": "https://localhost:8080/"
        },
        "id": "ASiS0j7LRKO9",
        "outputId": "63837922-e6b5-4e79-99a6-a07804f841af"
      },
      "execution_count": null,
      "outputs": [
        {
          "output_type": "execute_result",
          "data": {
            "text/plain": [
              "['http://www.data.gov/',\n",
              " 'http://www.science',\n",
              " 'http://data.gov.uk/.',\n",
              " 'http://www3.norc.org/gss+website/',\n",
              " 'http://www.europeansocialsurvey.org/.']"
            ]
          },
          "metadata": {},
          "execution_count": 13
        }
      ]
    },
    {
      "cell_type": "markdown",
      "source": [
        "## 2. Extract all transaction\n",
        "Extract all money with currency from the sentence. Output Should be look like: two $ , 500  €"
      ],
      "metadata": {
        "id": "D9Tpu_0nSXha"
      }
    },
    {
      "cell_type": "code",
      "source": [
        "transactions = \"Tony gave two $ to Peter, Bruce gave 500 € to Steve\"\n",
        "\n",
        "doc = nlp(transactions)\n",
        "for token in doc:\n",
        "    if token.like_num and doc[token.i +1].is_currency:\n",
        "        print(token.text, doc[token.i + 1].text)"
      ],
      "metadata": {
        "colab": {
          "base_uri": "https://localhost:8080/"
        },
        "id": "CMYKQps3SL5m",
        "outputId": "e8eed2a8-6b25-4763-f416-d56c961e4f35"
      },
      "execution_count": null,
      "outputs": [
        {
          "output_type": "stream",
          "name": "stdout",
          "text": [
            "two $\n",
            "500 €\n"
          ]
        }
      ]
    }
  ]
}