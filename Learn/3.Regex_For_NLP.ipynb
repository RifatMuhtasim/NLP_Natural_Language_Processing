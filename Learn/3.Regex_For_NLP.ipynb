{
  "nbformat": 4,
  "nbformat_minor": 0,
  "metadata": {
    "colab": {
      "provenance": [],
      "authorship_tag": "ABX9TyNetpgST5GJW2V748G2uje4",
      "include_colab_link": true
    },
    "kernelspec": {
      "name": "python3",
      "display_name": "Python 3"
    },
    "language_info": {
      "name": "python"
    }
  },
  "cells": [
    {
      "cell_type": "markdown",
      "metadata": {
        "id": "view-in-github",
        "colab_type": "text"
      },
      "source": [
        "<a href=\"https://colab.research.google.com/github/RifatMuhtasim/NLP_Natural_Language_Processing/blob/main/Learn/3.Regex_For_NLP.ipynb\" target=\"_parent\"><img src=\"https://colab.research.google.com/assets/colab-badge.svg\" alt=\"Open In Colab\"/></a>"
      ]
    },
    {
      "cell_type": "code",
      "execution_count": 1,
      "metadata": {
        "id": "Y5jzYEKW1TY-"
      },
      "outputs": [],
      "source": [
        "import re"
      ]
    },
    {
      "cell_type": "markdown",
      "source": [
        "# Regex Patterns for Number, Email and Order"
      ],
      "metadata": {
        "id": "GlkLt8qUJI1N"
      }
    },
    {
      "cell_type": "code",
      "source": [
        "chat1 = 'you ask lot of questions 😠  1235678912, abc@xyz.com'\n",
        "chat2 = ' here it is: (123)-567-8912, abc@xyz.com'\n",
        "chat3 = ' yes, phone: 1235678912 email: abc@xyz.com'\n",
        "chat4 =' Hello, I am having an issue with my order # 412889912'\n",
        "chat5 =' I have a problem with my order number 412889912'\n",
        "chat6 =' My order 412889912 is having an issue, I was charged 300$ when online it says 280$'"
      ],
      "metadata": {
        "id": "cv6Wy2tp6Z6E"
      },
      "execution_count": 2,
      "outputs": []
    },
    {
      "cell_type": "code",
      "source": [
        "number_pattern = '\\d{10}|\\(\\d{3}\\)-\\d{3}-\\d{4}'\n",
        "\n",
        "number_matches = re.findall(number_pattern, chat2)\n",
        "number_matches[0]"
      ],
      "metadata": {
        "colab": {
          "base_uri": "https://localhost:8080/",
          "height": 36
        },
        "id": "04U6MkEw6kNr",
        "outputId": "d3d0354a-8719-4402-dbe0-11ac1c1346c7"
      },
      "execution_count": 3,
      "outputs": [
        {
          "output_type": "execute_result",
          "data": {
            "text/plain": [
              "'(123)-567-8912'"
            ],
            "application/vnd.google.colaboratory.intrinsic+json": {
              "type": "string"
            }
          },
          "metadata": {},
          "execution_count": 3
        }
      ]
    },
    {
      "cell_type": "code",
      "source": [
        "email_pattern = \"[a-zA-Z0-9_]*@[a-z0-9-]*\\.[a-z]*\"\n",
        "\n",
        "email_matches = re.findall(email_pattern, chat3 )\n",
        "email_matches[0]"
      ],
      "metadata": {
        "colab": {
          "base_uri": "https://localhost:8080/",
          "height": 36
        },
        "id": "DJY0l0-l6vvF",
        "outputId": "12585021-6c97-4633-e5a3-f715f03c97d8"
      },
      "execution_count": 4,
      "outputs": [
        {
          "output_type": "execute_result",
          "data": {
            "text/plain": [
              "'abc@xyz.com'"
            ],
            "application/vnd.google.colaboratory.intrinsic+json": {
              "type": "string"
            }
          },
          "metadata": {},
          "execution_count": 4
        }
      ]
    },
    {
      "cell_type": "code",
      "source": [
        "order_number_pattern = 'order[^\\d]*(\\d*)'\n",
        "\n",
        "order_number_matches = re.findall(order_number_pattern, chat4)\n",
        "order_number_matches[0]"
      ],
      "metadata": {
        "colab": {
          "base_uri": "https://localhost:8080/",
          "height": 36
        },
        "id": "r9bJ-lXhG2Rd",
        "outputId": "de1be538-e2be-433e-d2b0-2a7f7360c05c"
      },
      "execution_count": 5,
      "outputs": [
        {
          "output_type": "execute_result",
          "data": {
            "text/plain": [
              "'412889912'"
            ],
            "application/vnd.google.colaboratory.intrinsic+json": {
              "type": "string"
            }
          },
          "metadata": {},
          "execution_count": 5
        }
      ]
    },
    {
      "cell_type": "markdown",
      "source": [
        "# Information Extraction"
      ],
      "metadata": {
        "id": "OTXQXF8VJRSu"
      }
    },
    {
      "cell_type": "code",
      "source": [
        "def Get_pattern_match(pattern, text):\n",
        "  matches = re.findall(pattern, text)\n",
        "  if matches:\n",
        "    return matches"
      ],
      "metadata": {
        "id": "U55hodygI2tx"
      },
      "execution_count": 6,
      "outputs": []
    },
    {
      "cell_type": "code",
      "source": [
        "Get_pattern_match('order[^\\d]*(\\d*)', chat5)"
      ],
      "metadata": {
        "colab": {
          "base_uri": "https://localhost:8080/"
        },
        "id": "cOv7sv4MOL5N",
        "outputId": "0f4e5dc5-6ea8-42ea-aa45-07ec9f8ec843"
      },
      "execution_count": 7,
      "outputs": [
        {
          "output_type": "execute_result",
          "data": {
            "text/plain": [
              "['412889912']"
            ]
          },
          "metadata": {},
          "execution_count": 7
        }
      ]
    },
    {
      "cell_type": "markdown",
      "source": [
        "##### 1. Extract all twitter handles from following text. Twitter handle is the text that appears after https://twitter.com/ and is a single word. Also it contains only alpha numeric characters i.e. A-Z a-z , o to 9 and underscore _"
      ],
      "metadata": {
        "id": "D2-pYwgOOYNF"
      }
    },
    {
      "cell_type": "code",
      "source": [
        "text = '''\n",
        "Follow our leader Elon musk on twitter here: https://twitter.com/elonmusk, more information\n",
        "on Tesla's products can be found at https://www.tesla.com/. Also here are leading influencers\n",
        "for tesla related news,\n",
        "https://twitter.com/teslarati\n",
        "https://twitter.com/dummy_tesla\n",
        "https://twitter.com/dummy_2_tesla\n",
        "'''\n",
        "\n",
        "Get_pattern_match('https:..twitter.com.([a-zA-Z0-9_]*)', text)"
      ],
      "metadata": {
        "colab": {
          "base_uri": "https://localhost:8080/"
        },
        "id": "i5pl4grDOQMW",
        "outputId": "54010a32-ea99-478e-aaf0-7aeb874accf1"
      },
      "execution_count": 8,
      "outputs": [
        {
          "output_type": "execute_result",
          "data": {
            "text/plain": [
              "['elonmusk', 'teslarati', 'dummy_tesla', 'dummy_2_tesla']"
            ]
          },
          "metadata": {},
          "execution_count": 8
        }
      ]
    },
    {
      "cell_type": "markdown",
      "source": [
        "##### 2. Extract Concentration Risk Types. It will be a text that appears after \"Concentration Risk:\", In below example, your regex should extract these two strings\n",
        "\n",
        "(1) Credit Risk\n",
        "\n",
        "(2) Supply Rish"
      ],
      "metadata": {
        "id": "cozwT7bDPV_q"
      }
    },
    {
      "cell_type": "code",
      "source": [
        "text = '''\n",
        "Concentration of Risk: Credit Risk\n",
        "Financial instruments that potentially subject us to a concentration of credit risk consist of cash, cash equivalents, marketable securities,\n",
        "restricted cash, accounts receivable, convertible note hedges, and interest rate swaps. Our cash balances are primarily invested in money market funds\n",
        "or on deposit at high credit quality financial institutions in the U.S. These deposits are typically in excess of insured limits. As of September 30, 2021\n",
        "and December 31, 2020, no entity represented 10% or more of our total accounts receivable balance. The risk of concentration for our convertible note\n",
        "hedges and interest rate swaps is mitigated by transacting with several highly-rated multinational banks.\n",
        "Concentration of Risk: Supply Risk\n",
        "We are dependent on our suppliers, including single source suppliers, and the inability of these suppliers to deliver necessary components of our\n",
        "products in a timely manner at prices, quality levels and volumes acceptable to us, or our inability to efficiently manage these components from these\n",
        "suppliers, could have a material adverse effect on our business, prospects, financial condition and operating results.\n",
        "'''\n",
        "\n",
        "Get_pattern_match('Concentration of Risk:.([A-Za-z]*.[A-Za-z]*)', text)"
      ],
      "metadata": {
        "colab": {
          "base_uri": "https://localhost:8080/"
        },
        "id": "q6Z2IZsaPR0O",
        "outputId": "456e4429-23be-4c9e-fae9-759774f6a5ff"
      },
      "execution_count": 9,
      "outputs": [
        {
          "output_type": "execute_result",
          "data": {
            "text/plain": [
              "['Credit Risk', 'Supply Risk']"
            ]
          },
          "metadata": {},
          "execution_count": 9
        }
      ]
    }
  ]
}