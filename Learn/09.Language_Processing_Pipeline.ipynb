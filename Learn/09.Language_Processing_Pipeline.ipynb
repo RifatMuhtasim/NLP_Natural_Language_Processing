{
  "nbformat": 4,
  "nbformat_minor": 0,
  "metadata": {
    "colab": {
      "provenance": [],
      "include_colab_link": true
    },
    "kernelspec": {
      "name": "python3",
      "display_name": "Python 3"
    },
    "language_info": {
      "name": "python"
    }
  },
  "cells": [
    {
      "cell_type": "markdown",
      "metadata": {
        "id": "view-in-github",
        "colab_type": "text"
      },
      "source": [
        "<a href=\"https://colab.research.google.com/github/RifatMuhtasim/NLP_Natural_Language_Processing/blob/main/Learn/09.Language_Processing_Pipeline.ipynb\" target=\"_parent\"><img src=\"https://colab.research.google.com/assets/colab-badge.svg\" alt=\"Open In Colab\"/></a>"
      ]
    },
    {
      "cell_type": "code",
      "execution_count": null,
      "metadata": {
        "id": "2T-PpM9gAxEV"
      },
      "outputs": [],
      "source": [
        "import spacy"
      ]
    },
    {
      "cell_type": "markdown",
      "source": [
        "## Pre-Trained Spacy Model For Grammertical Usages.\n",
        "- To find the token's base word and retrieve part of speech for each of the token.  "
      ],
      "metadata": {
        "id": "K4QTBjM6BQcs"
      }
    },
    {
      "cell_type": "code",
      "source": [
        "#Load the pretrained model\n",
        "nlp = spacy.load(\"en_core_web_sm\")"
      ],
      "metadata": {
        "id": "iYypccTpB4up"
      },
      "execution_count": null,
      "outputs": []
    },
    {
      "cell_type": "code",
      "source": [
        "text = \"The quick brown fox jumps over lazy dog\"\n",
        "doc = nlp(text)\n",
        "\n",
        "#Print Each of the word with their parts of speech and base word\n",
        "for token in doc:\n",
        "    print(f\"{token}   |    {token.pos_}    |     {token.lemma_}\")  #Here \"pos_\" means \"Part of Speech\" and \"lemma\" retrieve Base word"
      ],
      "metadata": {
        "colab": {
          "base_uri": "https://localhost:8080/"
        },
        "id": "mRVKzv9qB_2F",
        "outputId": "3653cc34-7f9b-4e7c-bf7d-2fee27493bc0"
      },
      "execution_count": null,
      "outputs": [
        {
          "output_type": "stream",
          "name": "stdout",
          "text": [
            "The   |    DET    |     the\n",
            "quick   |    ADJ    |     quick\n",
            "brown   |    ADJ    |     brown\n",
            "fox   |    NOUN    |     fox\n",
            "jumps   |    VERB    |     jump\n",
            "over   |    ADP    |     over\n",
            "lazy   |    ADJ    |     lazy\n",
            "dog   |    NOUN    |     dog\n"
          ]
        }
      ]
    },
    {
      "cell_type": "markdown",
      "source": [
        "## Use Pre-trained model for NER(Name Entity Recognication)\n",
        "- To Recognize entity name with their entity label."
      ],
      "metadata": {
        "id": "aoZ5Zk9sDE82"
      }
    },
    {
      "cell_type": "code",
      "source": [
        "#Show how many piplines have on the pretrained model\n",
        "nlp.pipe_names"
      ],
      "metadata": {
        "colab": {
          "base_uri": "https://localhost:8080/"
        },
        "id": "Qau2aXI4EMGL",
        "outputId": "775b6077-bbf1-4076-f92a-57d26243c1d8"
      },
      "execution_count": null,
      "outputs": [
        {
          "output_type": "execute_result",
          "data": {
            "text/plain": [
              "['tok2vec', 'tagger', 'parser', 'attribute_ruler', 'lemmatizer', 'ner']"
            ]
          },
          "metadata": {},
          "execution_count": 4
        }
      ]
    },
    {
      "cell_type": "code",
      "source": [
        "#Sample Text\n",
        "text = \"TavLav Limted is the most valuable AI Marketing company in the world; worth more than 100 Billion Dollar\"\n",
        "doc = nlp(text)\n",
        "\n",
        "#Print the entity name with their label and description\n",
        "for entity in doc.ents:\n",
        "    print(f\"{entity}   |   {entity.label_}   |   {spacy.explain(entity.label_)}\")"
      ],
      "metadata": {
        "colab": {
          "base_uri": "https://localhost:8080/"
        },
        "id": "Xh-K8fPwCvlK",
        "outputId": "cdfede8b-dd1d-4163-b908-82380ed2691f"
      },
      "execution_count": null,
      "outputs": [
        {
          "output_type": "stream",
          "name": "stdout",
          "text": [
            "TavLav Limted   |   ORG   |   Companies, agencies, institutions, etc.\n",
            "AI Marketing   |   ORG   |   Companies, agencies, institutions, etc.\n",
            "more than 100 Billion Dollar   |   MONEY   |   Monetary values, including unit\n"
          ]
        }
      ]
    },
    {
      "cell_type": "code",
      "source": [
        "#Display entity name with their label\n",
        "\n",
        "from spacy import displacy\n",
        "displacy.render(doc, style=\"ent\")"
      ],
      "metadata": {
        "colab": {
          "base_uri": "https://localhost:8080/",
          "height": 52
        },
        "id": "WR_gmHPWD52J",
        "outputId": "bb60b7c0-b97f-49c2-a69b-dd531f7b625d"
      },
      "execution_count": null,
      "outputs": [
        {
          "output_type": "display_data",
          "data": {
            "text/plain": [
              "<IPython.core.display.HTML object>"
            ],
            "text/html": [
              "<span class=\"tex2jax_ignore\"><div class=\"entities\" style=\"line-height: 2.5; direction: ltr\">\n",
              "<mark class=\"entity\" style=\"background: #7aecec; padding: 0.45em 0.6em; margin: 0 0.25em; line-height: 1; border-radius: 0.35em;\">\n",
              "    TavLav Limted\n",
              "    <span style=\"font-size: 0.8em; font-weight: bold; line-height: 1; border-radius: 0.35em; vertical-align: middle; margin-left: 0.5rem\">ORG</span>\n",
              "</mark>\n",
              " is the most valuable \n",
              "<mark class=\"entity\" style=\"background: #7aecec; padding: 0.45em 0.6em; margin: 0 0.25em; line-height: 1; border-radius: 0.35em;\">\n",
              "    AI Marketing\n",
              "    <span style=\"font-size: 0.8em; font-weight: bold; line-height: 1; border-radius: 0.35em; vertical-align: middle; margin-left: 0.5rem\">ORG</span>\n",
              "</mark>\n",
              " company in the world; worth \n",
              "<mark class=\"entity\" style=\"background: #e4e7d2; padding: 0.45em 0.6em; margin: 0 0.25em; line-height: 1; border-radius: 0.35em;\">\n",
              "    more than 100 Billion Dollar\n",
              "    <span style=\"font-size: 0.8em; font-weight: bold; line-height: 1; border-radius: 0.35em; vertical-align: middle; margin-left: 0.5rem\">MONEY</span>\n",
              "</mark>\n",
              "</div></span>"
            ]
          },
          "metadata": {}
        }
      ]
    },
    {
      "cell_type": "markdown",
      "source": [
        "## Use German pre-trained spacy to recongnize entity\n",
        "You can find German Pretrained Model from this website: https://spacy.io/usage/models"
      ],
      "metadata": {
        "id": "QSEpxfoEGDgt"
      }
    },
    {
      "cell_type": "code",
      "source": [
        "#Install German Pre-trained model\n",
        "!python -m spacy download de_core_news_sm"
      ],
      "metadata": {
        "id": "3tRYC5FaHJF0"
      },
      "execution_count": null,
      "outputs": []
    },
    {
      "cell_type": "code",
      "source": [
        "#Load German Pretrained model\n",
        "nlp = spacy.load(\"de_core_news_sm\")   #If this line show error than commented out the previous line\n",
        "\n",
        "#Sample German Text\n",
        "text = \"Angela Merkel wurde 1954 in Hamburg geboren und war von 2005 bis 2021 die Bundeskanzlerin von Deutschland.\"\n",
        "doc = nlp(text)\n",
        "\n",
        "#Print the entity name with their label and description\n",
        "for entity in doc.ents:\n",
        "    print(f\"{entity}   |   {entity.label_}   |   {spacy.explain(entity.label_)}\")"
      ],
      "metadata": {
        "colab": {
          "base_uri": "https://localhost:8080/"
        },
        "id": "-tBaEJV4FZMS",
        "outputId": "59d0f801-de4c-4392-ae94-72afb4a0ee55"
      },
      "execution_count": null,
      "outputs": [
        {
          "output_type": "stream",
          "name": "stdout",
          "text": [
            "Angela Merkel   |   PER   |   Named person or family.\n",
            "Hamburg   |   LOC   |   Non-GPE locations, mountain ranges, bodies of water\n",
            "Bundeskanzlerin   |   ORG   |   Companies, agencies, institutions, etc.\n",
            "Deutschland   |   LOC   |   Non-GPE locations, mountain ranges, bodies of water\n"
          ]
        }
      ]
    },
    {
      "cell_type": "markdown",
      "source": [
        "## Add only Entity components in blank pipeline"
      ],
      "metadata": {
        "id": "uKxS_mL7IE5z"
      }
    },
    {
      "cell_type": "code",
      "source": [
        "#Pretrained model pipeline\n",
        "source_nlp = spacy.load(\"en_core_web_sm\")\n",
        "#Blank NLP model\n",
        "nlp = spacy.blank(\"en\")\n",
        "\n",
        "nlp.pipe_names"
      ],
      "metadata": {
        "colab": {
          "base_uri": "https://localhost:8080/"
        },
        "id": "kxdkCWznGktR",
        "outputId": "fbe6bb58-62d0-4a55-d77f-d56fc957bd42"
      },
      "execution_count": null,
      "outputs": [
        {
          "output_type": "execute_result",
          "data": {
            "text/plain": [
              "[]"
            ]
          },
          "metadata": {},
          "execution_count": 9
        }
      ]
    },
    {
      "cell_type": "code",
      "source": [
        "#Previous List is empty now add entity component to the blank model list\n",
        "nlp.add_pipe(\"ner\", source= source_nlp)\n",
        "nlp.pipe_names"
      ],
      "metadata": {
        "colab": {
          "base_uri": "https://localhost:8080/"
        },
        "id": "FJ5pjnWcIri-",
        "outputId": "bb868c1d-553a-49b6-a551-e90bb42b1917"
      },
      "execution_count": null,
      "outputs": [
        {
          "output_type": "execute_result",
          "data": {
            "text/plain": [
              "['ner']"
            ]
          },
          "metadata": {},
          "execution_count": 10
        }
      ]
    },
    {
      "cell_type": "code",
      "source": [
        "text = \"Rifat Muhtasim is one of the best entrepreneur in the world. He is the founder of two company they are Wasiname Limited and TavLab Limited\"\n",
        "doc = nlp(text)\n",
        "\n",
        "#Print the entity name with their label and description\n",
        "for entity in doc.ents:\n",
        "    print(f\"{entity}   |   {entity.label_}   |   {spacy.explain(entity.label_)}\")"
      ],
      "metadata": {
        "colab": {
          "base_uri": "https://localhost:8080/"
        },
        "id": "3eUHsO7xJISK",
        "outputId": "3479d335-c439-46d3-9195-0ab2f5ee272f"
      },
      "execution_count": null,
      "outputs": [
        {
          "output_type": "stream",
          "name": "stdout",
          "text": [
            "Rifat Muhtasim   |   PERSON   |   People, including fictional\n",
            "two   |   CARDINAL   |   Numerals that do not fall under another type\n",
            "Wasiname Limited   |   PERSON   |   People, including fictional\n",
            "TavLab Limited   |   ORG   |   Companies, agencies, institutions, etc.\n"
          ]
        }
      ]
    }
  ]
}